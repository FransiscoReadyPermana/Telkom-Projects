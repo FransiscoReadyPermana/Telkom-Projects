{
 "cells": [
  {
   "cell_type": "code",
   "execution_count": 1,
   "metadata": {},
   "outputs": [],
   "source": [
    "import numpy as np\n",
    "import pandas as pd\n",
    "import matplotlib.pyplot as plt\n",
    "import seaborn as sns\n",
    "from sklearn.model_selection import train_test_split\n",
    "from sklearn.pipeline import Pipeline\n",
    "from sklearn.compose import ColumnTransformer\n",
    "\n",
    "from jcopml.pipeline import num_pipe, cat_pipe\n",
    "from jcopml.utils import save_model, load_model\n",
    "from jcopml.plot import plot_missing_value\n",
    "from jcopml.feature_importance import mean_score_decrease"
   ]
  },
  {
   "cell_type": "code",
   "execution_count": 2,
   "metadata": {},
   "outputs": [],
   "source": [
    "pd.set_option('display.float_format', lambda x: '%.3f' % x)"
   ]
  },
  {
   "cell_type": "code",
   "execution_count": 3,
   "metadata": {},
   "outputs": [
    {
     "data": {
      "text/html": [
       "<div>\n",
       "<style scoped>\n",
       "    .dataframe tbody tr th:only-of-type {\n",
       "        vertical-align: middle;\n",
       "    }\n",
       "\n",
       "    .dataframe tbody tr th {\n",
       "        vertical-align: top;\n",
       "    }\n",
       "\n",
       "    .dataframe thead th {\n",
       "        text-align: right;\n",
       "    }\n",
       "</style>\n",
       "<table border=\"1\" class=\"dataframe\">\n",
       "  <thead>\n",
       "    <tr style=\"text-align: right;\">\n",
       "      <th></th>\n",
       "      <th>Masking</th>\n",
       "      <th>Total</th>\n",
       "      <th>Rentang Greentick Ke Juni 2023</th>\n",
       "      <th>Rata-rata</th>\n",
       "    </tr>\n",
       "  </thead>\n",
       "  <tbody>\n",
       "    <tr>\n",
       "      <th>0</th>\n",
       "      <td>Customer 0</td>\n",
       "      <td>134921</td>\n",
       "      <td>12</td>\n",
       "      <td>11244</td>\n",
       "    </tr>\n",
       "    <tr>\n",
       "      <th>1</th>\n",
       "      <td>Customer 1</td>\n",
       "      <td>20672</td>\n",
       "      <td>3</td>\n",
       "      <td>6891</td>\n",
       "    </tr>\n",
       "    <tr>\n",
       "      <th>2</th>\n",
       "      <td>Customer 2</td>\n",
       "      <td>17148</td>\n",
       "      <td>4</td>\n",
       "      <td>4287</td>\n",
       "    </tr>\n",
       "    <tr>\n",
       "      <th>3</th>\n",
       "      <td>Customer 3</td>\n",
       "      <td>381243</td>\n",
       "      <td>4</td>\n",
       "      <td>95311</td>\n",
       "    </tr>\n",
       "    <tr>\n",
       "      <th>4</th>\n",
       "      <td>Customer 4</td>\n",
       "      <td>10</td>\n",
       "      <td>0</td>\n",
       "      <td>10</td>\n",
       "    </tr>\n",
       "  </tbody>\n",
       "</table>\n",
       "</div>"
      ],
      "text/plain": [
       "      Masking   Total  Rentang Greentick Ke Juni 2023  Rata-rata\n",
       "0  Customer 0  134921                              12      11244\n",
       "1  Customer 1   20672                               3       6891\n",
       "2  Customer 2   17148                               4       4287\n",
       "3  Customer 3  381243                               4      95311\n",
       "4  Customer 4      10                               0         10"
      ]
     },
     "execution_count": 3,
     "metadata": {},
     "output_type": "execute_result"
    }
   ],
   "source": [
    "data = pd.read_csv('../../Data/clustering/Data Clustering.csv')\n",
    "df = data.copy()\n",
    "\n",
    "df.head()"
   ]
  },
  {
   "cell_type": "code",
   "execution_count": 4,
   "metadata": {},
   "outputs": [],
   "source": [
    "from sklearn.cluster import KMeans\n",
    "from sklearn.metrics import silhouette_score, calinski_harabasz_score\n",
    "from sklearn.preprocessing import RobustScaler, MinMaxScaler"
   ]
  },
  {
   "cell_type": "code",
   "execution_count": 5,
   "metadata": {},
   "outputs": [],
   "source": [
    "fitur = ['Total', 'Rentang Greentick Ke Juni 2023', 'Rata-rata']\n",
    "X = df[fitur]\n",
    "scaller = MinMaxScaler()\n",
    "X = scaller.fit_transform(X)\n",
    "X = pd.DataFrame(X, columns=fitur)"
   ]
  },
  {
   "cell_type": "code",
   "execution_count": 6,
   "metadata": {},
   "outputs": [
    {
     "data": {
      "image/png": "[encoded data removed]",
      "text/plain": [
       "<Figure size 432x288 with 1 Axes>"
      ]
     },
     "metadata": {
      "needs_background": "light"
     },
     "output_type": "display_data"
    }
   ],
   "source": [
    "n_clusters = range(2, 11)\n",
    "inertia = []\n",
    "silhouette = []\n",
    "ch_index = []\n",
    "\n",
    "for k in n_clusters:\n",
    "    model = KMeans(n_clusters=k, max_iter=500, n_init=50, random_state=42)\n",
    "    member = model.fit_predict(X, y=None) \n",
    "\n",
    "    silhouette_avg = silhouette_score(X, member)\n",
    "    ch_index_score = calinski_harabasz_score(X, member)\n",
    "\n",
    "    inertia.append(model.inertia_)\n",
    "    silhouette.append(silhouette_avg)\n",
    "    ch_index.append(ch_index_score)\n",
    "\n",
    "plt.plot(n_clusters, inertia, 'bx-')\n",
    "plt.xlabel('Jumlah k')\n",
    "plt.ylabel('Inersia')\n",
    "plt.title('Metode Elbow untuk Menentukan Jumlah k Terbaik')\n",
    "plt.show()"
   ]
  },
  {
   "cell_type": "code",
   "execution_count": 7,
   "metadata": {},
   "outputs": [
    {
     "name": "stdout",
     "output_type": "stream",
     "text": [
      "Jumlah Cluster = 2\n",
      "Silhouette Score = 0.6343480726905277\n",
      "CH Index Score = 169.74313377287834\n",
      "\n",
      "Jumlah Cluster = 3\n",
      "Silhouette Score = 0.6427048132797701\n",
      "CH Index Score = 207.0439538140205\n",
      "\n",
      "Jumlah Cluster = 4\n",
      "Silhouette Score = 0.5613142333799158\n",
      "CH Index Score = 263.3515289389647\n",
      "\n",
      "Jumlah Cluster = 5\n",
      "Silhouette Score = 0.5726699065402356\n",
      "CH Index Score = 324.3211899958849\n",
      "\n",
      "Jumlah Cluster = 6\n",
      "Silhouette Score = 0.5805159976304833\n",
      "CH Index Score = 366.92181452388036\n",
      "\n",
      "Jumlah Cluster = 7\n",
      "Silhouette Score = 0.5948174865975683\n",
      "CH Index Score = 424.85202351032444\n",
      "\n",
      "Jumlah Cluster = 8\n",
      "Silhouette Score = 0.5599837357372445\n",
      "CH Index Score = 529.5456248996408\n",
      "\n",
      "Jumlah Cluster = 9\n",
      "Silhouette Score = 0.5626562044355213\n",
      "CH Index Score = 639.969135493779\n",
      "\n",
      "Jumlah Cluster = 10\n",
      "Silhouette Score = 0.5678881603828331\n",
      "CH Index Score = 731.3306613313924\n",
      "\n",
      "\n",
      "Cluster Terbaik Berdasarkan CH Index dan Silhoutte Score\n",
      "Jumlah Cluster Silhoutte = 3\n",
      "Nilai Silhoutte Score = 0.6427048132797701\n",
      "\n",
      "Jumlah Cluster CH Index = 10\n",
      "Nilai CH Index Score = 731.3306613313924\n",
      "\n"
     ]
    }
   ],
   "source": [
    "for i, s, c in zip(n_clusters, silhouette, ch_index):\n",
    "    silhouette_avg = silhouette.index(max(silhouette))\n",
    "    ch_index_score = ch_index.index(max(ch_index))\n",
    "\n",
    "    print(f\"Jumlah Cluster = {i}\\nSilhouette Score = {s}\\nCH Index Score = {c}\\n\")\n",
    "\n",
    "k_silhoutte = range(2, 11)[silhouette_avg]\n",
    "k_ch_index = range(2, 11)[ch_index_score]\n",
    "\n",
    "print('\\nCluster Terbaik Berdasarkan CH Index dan Silhoutte Score')\n",
    "print(f'Jumlah Cluster Silhoutte = {k_silhoutte}')\n",
    "print(f'Nilai Silhoutte Score = {max(silhouette)}\\n')\n",
    "\n",
    "print(f'Jumlah Cluster CH Index = {k_ch_index}')\n",
    "print(f'Nilai CH Index Score = {max(ch_index)}\\n')"
   ]
  },
  {
   "cell_type": "code",
   "execution_count": 8,
   "metadata": {},
   "outputs": [
    {
     "data": {
      "text/plain": [
       "1    52\n",
       "3    27\n",
       "6    21\n",
       "0    11\n",
       "5     6\n",
       "2     1\n",
       "4     1\n",
       "Name: cluster, dtype: int64"
      ]
     },
     "execution_count": 8,
     "metadata": {},
     "output_type": "execute_result"
    }
   ],
   "source": [
    "kmeans = KMeans(n_clusters=7, max_iter=500, n_init=50, random_state=42)\n",
    "member = kmeans.fit_predict(X)\n",
    "\n",
    "df['cluster'] = kmeans.labels_\n",
    "df['cluster'].value_counts()"
   ]
  },
  {
   "cell_type": "code",
   "execution_count": 9,
   "metadata": {},
   "outputs": [
    {
     "data": {
      "text/html": [
       "<div>\n",
       "<style scoped>\n",
       "    .dataframe tbody tr th:only-of-type {\n",
       "        vertical-align: middle;\n",
       "    }\n",
       "\n",
       "    .dataframe tbody tr th {\n",
       "        vertical-align: top;\n",
       "    }\n",
       "\n",
       "    .dataframe thead th {\n",
       "        text-align: right;\n",
       "    }\n",
       "</style>\n",
       "<table border=\"1\" class=\"dataframe\">\n",
       "  <thead>\n",
       "    <tr style=\"text-align: right;\">\n",
       "      <th></th>\n",
       "      <th>Masking</th>\n",
       "      <th>Total</th>\n",
       "      <th>Rentang Greentick Ke Juni 2023</th>\n",
       "      <th>Rata-rata</th>\n",
       "      <th>cluster</th>\n",
       "    </tr>\n",
       "  </thead>\n",
       "  <tbody>\n",
       "    <tr>\n",
       "      <th>13</th>\n",
       "      <td>Customer 13</td>\n",
       "      <td>228091</td>\n",
       "      <td>20</td>\n",
       "      <td>13418</td>\n",
       "      <td>6</td>\n",
       "    </tr>\n",
       "    <tr>\n",
       "      <th>14</th>\n",
       "      <td>Customer 14</td>\n",
       "      <td>393048</td>\n",
       "      <td>21</td>\n",
       "      <td>23121</td>\n",
       "      <td>6</td>\n",
       "    </tr>\n",
       "    <tr>\n",
       "      <th>15</th>\n",
       "      <td>Customer 15</td>\n",
       "      <td>136700</td>\n",
       "      <td>22</td>\n",
       "      <td>8042</td>\n",
       "      <td>6</td>\n",
       "    </tr>\n",
       "    <tr>\n",
       "      <th>30</th>\n",
       "      <td>Customer 30</td>\n",
       "      <td>154691</td>\n",
       "      <td>20</td>\n",
       "      <td>9100</td>\n",
       "      <td>6</td>\n",
       "    </tr>\n",
       "    <tr>\n",
       "      <th>34</th>\n",
       "      <td>Customer 34</td>\n",
       "      <td>0</td>\n",
       "      <td>20</td>\n",
       "      <td>0</td>\n",
       "      <td>6</td>\n",
       "    </tr>\n",
       "    <tr>\n",
       "      <th>35</th>\n",
       "      <td>Customer 35</td>\n",
       "      <td>454770</td>\n",
       "      <td>23</td>\n",
       "      <td>26752</td>\n",
       "      <td>6</td>\n",
       "    </tr>\n",
       "    <tr>\n",
       "      <th>43</th>\n",
       "      <td>Customer 43</td>\n",
       "      <td>222922</td>\n",
       "      <td>21</td>\n",
       "      <td>13114</td>\n",
       "      <td>6</td>\n",
       "    </tr>\n",
       "    <tr>\n",
       "      <th>48</th>\n",
       "      <td>Customer 48</td>\n",
       "      <td>124871</td>\n",
       "      <td>24</td>\n",
       "      <td>7346</td>\n",
       "      <td>6</td>\n",
       "    </tr>\n",
       "    <tr>\n",
       "      <th>57</th>\n",
       "      <td>Customer 57</td>\n",
       "      <td>311</td>\n",
       "      <td>20</td>\n",
       "      <td>19</td>\n",
       "      <td>6</td>\n",
       "    </tr>\n",
       "    <tr>\n",
       "      <th>59</th>\n",
       "      <td>Customer 59</td>\n",
       "      <td>159541</td>\n",
       "      <td>25</td>\n",
       "      <td>9385</td>\n",
       "      <td>6</td>\n",
       "    </tr>\n",
       "    <tr>\n",
       "      <th>62</th>\n",
       "      <td>Customer 62</td>\n",
       "      <td>33366</td>\n",
       "      <td>20</td>\n",
       "      <td>1963</td>\n",
       "      <td>6</td>\n",
       "    </tr>\n",
       "    <tr>\n",
       "      <th>66</th>\n",
       "      <td>Customer 66</td>\n",
       "      <td>9481</td>\n",
       "      <td>23</td>\n",
       "      <td>558</td>\n",
       "      <td>6</td>\n",
       "    </tr>\n",
       "    <tr>\n",
       "      <th>67</th>\n",
       "      <td>Customer 67</td>\n",
       "      <td>6548</td>\n",
       "      <td>25</td>\n",
       "      <td>386</td>\n",
       "      <td>6</td>\n",
       "    </tr>\n",
       "    <tr>\n",
       "      <th>79</th>\n",
       "      <td>Customer 79</td>\n",
       "      <td>32229</td>\n",
       "      <td>25</td>\n",
       "      <td>1896</td>\n",
       "      <td>6</td>\n",
       "    </tr>\n",
       "    <tr>\n",
       "      <th>85</th>\n",
       "      <td>Customer 85</td>\n",
       "      <td>2</td>\n",
       "      <td>24</td>\n",
       "      <td>0</td>\n",
       "      <td>6</td>\n",
       "    </tr>\n",
       "    <tr>\n",
       "      <th>88</th>\n",
       "      <td>Customer 88</td>\n",
       "      <td>188415</td>\n",
       "      <td>20</td>\n",
       "      <td>11084</td>\n",
       "      <td>6</td>\n",
       "    </tr>\n",
       "    <tr>\n",
       "      <th>89</th>\n",
       "      <td>Customer 89</td>\n",
       "      <td>548672</td>\n",
       "      <td>20</td>\n",
       "      <td>32275</td>\n",
       "      <td>6</td>\n",
       "    </tr>\n",
       "    <tr>\n",
       "      <th>100</th>\n",
       "      <td>Customer 100</td>\n",
       "      <td>291161</td>\n",
       "      <td>20</td>\n",
       "      <td>17128</td>\n",
       "      <td>6</td>\n",
       "    </tr>\n",
       "    <tr>\n",
       "      <th>102</th>\n",
       "      <td>Customer 102</td>\n",
       "      <td>62302</td>\n",
       "      <td>19</td>\n",
       "      <td>3665</td>\n",
       "      <td>6</td>\n",
       "    </tr>\n",
       "    <tr>\n",
       "      <th>110</th>\n",
       "      <td>Customer 110</td>\n",
       "      <td>13036</td>\n",
       "      <td>25</td>\n",
       "      <td>767</td>\n",
       "      <td>6</td>\n",
       "    </tr>\n",
       "    <tr>\n",
       "      <th>116</th>\n",
       "      <td>Customer 116</td>\n",
       "      <td>222204</td>\n",
       "      <td>20</td>\n",
       "      <td>13071</td>\n",
       "      <td>6</td>\n",
       "    </tr>\n",
       "  </tbody>\n",
       "</table>\n",
       "</div>"
      ],
      "text/plain": [
       "          Masking   Total  Rentang Greentick Ke Juni 2023  Rata-rata  cluster\n",
       "13    Customer 13  228091                              20      13418        6\n",
       "14    Customer 14  393048                              21      23121        6\n",
       "15    Customer 15  136700                              22       8042        6\n",
       "30    Customer 30  154691                              20       9100        6\n",
       "34    Customer 34       0                              20          0        6\n",
       "35    Customer 35  454770                              23      26752        6\n",
       "43    Customer 43  222922                              21      13114        6\n",
       "48    Customer 48  124871                              24       7346        6\n",
       "57    Customer 57     311                              20         19        6\n",
       "59    Customer 59  159541                              25       9385        6\n",
       "62    Customer 62   33366                              20       1963        6\n",
       "66    Customer 66    9481                              23        558        6\n",
       "67    Customer 67    6548                              25        386        6\n",
       "79    Customer 79   32229                              25       1896        6\n",
       "85    Customer 85       2                              24          0        6\n",
       "88    Customer 88  188415                              20      11084        6\n",
       "89    Customer 89  548672                              20      32275        6\n",
       "100  Customer 100  291161                              20      17128        6\n",
       "102  Customer 102   62302                              19       3665        6\n",
       "110  Customer 110   13036                              25        767        6\n",
       "116  Customer 116  222204                              20      13071        6"
      ]
     },
     "execution_count": 9,
     "metadata": {},
     "output_type": "execute_result"
    }
   ],
   "source": [
    "df[df['cluster'] == 6]"
   ]
  },
  {
   "cell_type": "code",
   "execution_count": 10,
   "metadata": {},
   "outputs": [
    {
     "data": {
      "text/plain": [
       "<Axes: xlabel='cluster', ylabel='Rata-rata'>"
      ]
     },
     "execution_count": 10,
     "metadata": {},
     "output_type": "execute_result"
    },
    {
     "data": {
      "image/png": "[encoded data removed]",
      "text/plain": [
       "<Figure size 432x288 with 1 Axes>"
      ]
     },
     "metadata": {
      "needs_background": "light"
     },
     "output_type": "display_data"
    }
   ],
   "source": [
    "sns.boxplot(x='cluster', y='Rata-rata', data=df[df['cluster'] == 6])"
   ]
  },
  {
   "cell_type": "code",
   "execution_count": 11,
   "metadata": {},
   "outputs": [
    {
     "name": "stderr",
     "output_type": "stream",
     "text": [
      "C:\\Users\\Jayy\\AppData\\Local\\Temp\\ipykernel_17336\\1642471285.py:1: FutureWarning: The default value of numeric_only in DataFrameGroupBy.mean is deprecated. In a future version, numeric_only will default to False. Either specify numeric_only or select only columns which should be valid for the function.\n",
      "  df.groupby('cluster').mean().sort_values(by='Rata-rata', ascending=False)\n"
     ]
    },
    {
     "data": {
      "text/html": [
       "<div>\n",
       "<style scoped>\n",
       "    .dataframe tbody tr th:only-of-type {\n",
       "        vertical-align: middle;\n",
       "    }\n",
       "\n",
       "    .dataframe tbody tr th {\n",
       "        vertical-align: top;\n",
       "    }\n",
       "\n",
       "    .dataframe thead th {\n",
       "        text-align: right;\n",
       "    }\n",
       "</style>\n",
       "<table border=\"1\" class=\"dataframe\">\n",
       "  <thead>\n",
       "    <tr style=\"text-align: right;\">\n",
       "      <th></th>\n",
       "      <th>Total</th>\n",
       "      <th>Rentang Greentick Ke Juni 2023</th>\n",
       "      <th>Rata-rata</th>\n",
       "    </tr>\n",
       "    <tr>\n",
       "      <th>cluster</th>\n",
       "      <th></th>\n",
       "      <th></th>\n",
       "      <th></th>\n",
       "    </tr>\n",
       "  </thead>\n",
       "  <tbody>\n",
       "    <tr>\n",
       "      <th>2</th>\n",
       "      <td>56674832.000</td>\n",
       "      <td>36.000</td>\n",
       "      <td>3333814.000</td>\n",
       "    </tr>\n",
       "    <tr>\n",
       "      <th>4</th>\n",
       "      <td>13092618.000</td>\n",
       "      <td>9.000</td>\n",
       "      <td>1454736.000</td>\n",
       "    </tr>\n",
       "    <tr>\n",
       "      <th>5</th>\n",
       "      <td>2256780.833</td>\n",
       "      <td>37.833</td>\n",
       "      <td>132752.333</td>\n",
       "    </tr>\n",
       "    <tr>\n",
       "      <th>0</th>\n",
       "      <td>784845.818</td>\n",
       "      <td>29.455</td>\n",
       "      <td>46167.909</td>\n",
       "    </tr>\n",
       "    <tr>\n",
       "      <th>3</th>\n",
       "      <td>268622.222</td>\n",
       "      <td>12.667</td>\n",
       "      <td>22126.407</td>\n",
       "    </tr>\n",
       "    <tr>\n",
       "      <th>1</th>\n",
       "      <td>91414.250</td>\n",
       "      <td>4.077</td>\n",
       "      <td>17080.865</td>\n",
       "    </tr>\n",
       "    <tr>\n",
       "      <th>6</th>\n",
       "      <td>156302.905</td>\n",
       "      <td>21.762</td>\n",
       "      <td>9194.762</td>\n",
       "    </tr>\n",
       "  </tbody>\n",
       "</table>\n",
       "</div>"
      ],
      "text/plain": [
       "               Total  Rentang Greentick Ke Juni 2023   Rata-rata\n",
       "cluster                                                         \n",
       "2       56674832.000                          36.000 3333814.000\n",
       "4       13092618.000                           9.000 1454736.000\n",
       "5        2256780.833                          37.833  132752.333\n",
       "0         784845.818                          29.455   46167.909\n",
       "3         268622.222                          12.667   22126.407\n",
       "1          91414.250                           4.077   17080.865\n",
       "6         156302.905                          21.762    9194.762"
      ]
     },
     "execution_count": 11,
     "metadata": {},
     "output_type": "execute_result"
    }
   ],
   "source": [
    "df.groupby('cluster').mean().sort_values(by='Rata-rata', ascending=False)"
   ]
  },
  {
   "cell_type": "code",
   "execution_count": 12,
   "metadata": {},
   "outputs": [
    {
     "data": {
      "text/html": [
       "<div>\n",
       "<style scoped>\n",
       "    .dataframe tbody tr th:only-of-type {\n",
       "        vertical-align: middle;\n",
       "    }\n",
       "\n",
       "    .dataframe tbody tr th {\n",
       "        vertical-align: top;\n",
       "    }\n",
       "\n",
       "    .dataframe thead tr th {\n",
       "        text-align: left;\n",
       "    }\n",
       "\n",
       "    .dataframe thead tr:last-of-type th {\n",
       "        text-align: right;\n",
       "    }\n",
       "</style>\n",
       "<table border=\"1\" class=\"dataframe\">\n",
       "  <thead>\n",
       "    <tr>\n",
       "      <th></th>\n",
       "      <th colspan=\"8\" halign=\"left\">Total</th>\n",
       "      <th colspan=\"5\" halign=\"left\">Rentang Greentick Ke Juni 2023</th>\n",
       "      <th colspan=\"8\" halign=\"left\">Rata-rata</th>\n",
       "    </tr>\n",
       "    <tr>\n",
       "      <th></th>\n",
       "      <th>count</th>\n",
       "      <th>mean</th>\n",
       "      <th>std</th>\n",
       "      <th>min</th>\n",
       "      <th>25%</th>\n",
       "      <th>50%</th>\n",
       "      <th>75%</th>\n",
       "      <th>max</th>\n",
       "      <th>count</th>\n",
       "      <th>mean</th>\n",
       "      <th>...</th>\n",
       "      <th>75%</th>\n",
       "      <th>max</th>\n",
       "      <th>count</th>\n",
       "      <th>mean</th>\n",
       "      <th>std</th>\n",
       "      <th>min</th>\n",
       "      <th>25%</th>\n",
       "      <th>50%</th>\n",
       "      <th>75%</th>\n",
       "      <th>max</th>\n",
       "    </tr>\n",
       "    <tr>\n",
       "      <th>cluster</th>\n",
       "      <th></th>\n",
       "      <th></th>\n",
       "      <th></th>\n",
       "      <th></th>\n",
       "      <th></th>\n",
       "      <th></th>\n",
       "      <th></th>\n",
       "      <th></th>\n",
       "      <th></th>\n",
       "      <th></th>\n",
       "      <th></th>\n",
       "      <th></th>\n",
       "      <th></th>\n",
       "      <th></th>\n",
       "      <th></th>\n",
       "      <th></th>\n",
       "      <th></th>\n",
       "      <th></th>\n",
       "      <th></th>\n",
       "      <th></th>\n",
       "      <th></th>\n",
       "    </tr>\n",
       "  </thead>\n",
       "  <tbody>\n",
       "    <tr>\n",
       "      <th>0</th>\n",
       "      <td>11.000</td>\n",
       "      <td>784845.818</td>\n",
       "      <td>898153.915</td>\n",
       "      <td>28171.000</td>\n",
       "      <td>85540.000</td>\n",
       "      <td>346373.000</td>\n",
       "      <td>1334839.000</td>\n",
       "      <td>2350727.000</td>\n",
       "      <td>11.000</td>\n",
       "      <td>29.455</td>\n",
       "      <td>...</td>\n",
       "      <td>31.000</td>\n",
       "      <td>32.000</td>\n",
       "      <td>11.000</td>\n",
       "      <td>46167.909</td>\n",
       "      <td>52832.625</td>\n",
       "      <td>1658.000</td>\n",
       "      <td>5032.500</td>\n",
       "      <td>20375.000</td>\n",
       "      <td>78520.500</td>\n",
       "      <td>138279.000</td>\n",
       "    </tr>\n",
       "    <tr>\n",
       "      <th>1</th>\n",
       "      <td>52.000</td>\n",
       "      <td>91414.250</td>\n",
       "      <td>254021.760</td>\n",
       "      <td>0.000</td>\n",
       "      <td>36.000</td>\n",
       "      <td>2374.000</td>\n",
       "      <td>24847.500</td>\n",
       "      <td>1578066.000</td>\n",
       "      <td>52.000</td>\n",
       "      <td>4.077</td>\n",
       "      <td>...</td>\n",
       "      <td>6.000</td>\n",
       "      <td>8.000</td>\n",
       "      <td>52.000</td>\n",
       "      <td>17080.865</td>\n",
       "      <td>49133.384</td>\n",
       "      <td>0.000</td>\n",
       "      <td>9.750</td>\n",
       "      <td>562.000</td>\n",
       "      <td>7125.250</td>\n",
       "      <td>315614.000</td>\n",
       "    </tr>\n",
       "    <tr>\n",
       "      <th>2</th>\n",
       "      <td>1.000</td>\n",
       "      <td>56674832.000</td>\n",
       "      <td>NaN</td>\n",
       "      <td>56674832.000</td>\n",
       "      <td>56674832.000</td>\n",
       "      <td>56674832.000</td>\n",
       "      <td>56674832.000</td>\n",
       "      <td>56674832.000</td>\n",
       "      <td>1.000</td>\n",
       "      <td>36.000</td>\n",
       "      <td>...</td>\n",
       "      <td>36.000</td>\n",
       "      <td>36.000</td>\n",
       "      <td>1.000</td>\n",
       "      <td>3333814.000</td>\n",
       "      <td>NaN</td>\n",
       "      <td>3333814.000</td>\n",
       "      <td>3333814.000</td>\n",
       "      <td>3333814.000</td>\n",
       "      <td>3333814.000</td>\n",
       "      <td>3333814.000</td>\n",
       "    </tr>\n",
       "    <tr>\n",
       "      <th>3</th>\n",
       "      <td>27.000</td>\n",
       "      <td>268622.222</td>\n",
       "      <td>565650.094</td>\n",
       "      <td>279.000</td>\n",
       "      <td>10410.000</td>\n",
       "      <td>52302.000</td>\n",
       "      <td>148629.000</td>\n",
       "      <td>2251775.000</td>\n",
       "      <td>27.000</td>\n",
       "      <td>12.667</td>\n",
       "      <td>...</td>\n",
       "      <td>14.000</td>\n",
       "      <td>16.000</td>\n",
       "      <td>27.000</td>\n",
       "      <td>22126.407</td>\n",
       "      <td>49930.833</td>\n",
       "      <td>28.000</td>\n",
       "      <td>926.000</td>\n",
       "      <td>3509.000</td>\n",
       "      <td>11420.000</td>\n",
       "      <td>204707.000</td>\n",
       "    </tr>\n",
       "    <tr>\n",
       "      <th>4</th>\n",
       "      <td>1.000</td>\n",
       "      <td>13092618.000</td>\n",
       "      <td>NaN</td>\n",
       "      <td>13092618.000</td>\n",
       "      <td>13092618.000</td>\n",
       "      <td>13092618.000</td>\n",
       "      <td>13092618.000</td>\n",
       "      <td>13092618.000</td>\n",
       "      <td>1.000</td>\n",
       "      <td>9.000</td>\n",
       "      <td>...</td>\n",
       "      <td>9.000</td>\n",
       "      <td>9.000</td>\n",
       "      <td>1.000</td>\n",
       "      <td>1454736.000</td>\n",
       "      <td>NaN</td>\n",
       "      <td>1454736.000</td>\n",
       "      <td>1454736.000</td>\n",
       "      <td>1454736.000</td>\n",
       "      <td>1454736.000</td>\n",
       "      <td>1454736.000</td>\n",
       "    </tr>\n",
       "    <tr>\n",
       "      <th>5</th>\n",
       "      <td>6.000</td>\n",
       "      <td>2256780.833</td>\n",
       "      <td>4837960.714</td>\n",
       "      <td>53.000</td>\n",
       "      <td>48717.750</td>\n",
       "      <td>272780.000</td>\n",
       "      <td>751531.000</td>\n",
       "      <td>12109927.000</td>\n",
       "      <td>6.000</td>\n",
       "      <td>37.833</td>\n",
       "      <td>...</td>\n",
       "      <td>39.500</td>\n",
       "      <td>41.000</td>\n",
       "      <td>6.000</td>\n",
       "      <td>132752.333</td>\n",
       "      <td>284585.831</td>\n",
       "      <td>4.000</td>\n",
       "      <td>2866.250</td>\n",
       "      <td>16046.500</td>\n",
       "      <td>44208.000</td>\n",
       "      <td>712349.000</td>\n",
       "    </tr>\n",
       "    <tr>\n",
       "      <th>6</th>\n",
       "      <td>21.000</td>\n",
       "      <td>156302.905</td>\n",
       "      <td>159791.864</td>\n",
       "      <td>0.000</td>\n",
       "      <td>13036.000</td>\n",
       "      <td>136700.000</td>\n",
       "      <td>222922.000</td>\n",
       "      <td>548672.000</td>\n",
       "      <td>21.000</td>\n",
       "      <td>21.762</td>\n",
       "      <td>...</td>\n",
       "      <td>24.000</td>\n",
       "      <td>25.000</td>\n",
       "      <td>21.000</td>\n",
       "      <td>9194.762</td>\n",
       "      <td>9399.624</td>\n",
       "      <td>0.000</td>\n",
       "      <td>767.000</td>\n",
       "      <td>8042.000</td>\n",
       "      <td>13114.000</td>\n",
       "      <td>32275.000</td>\n",
       "    </tr>\n",
       "  </tbody>\n",
       "</table>\n",
       "<p>7 rows × 24 columns</p>\n",
       "</div>"
      ],
      "text/plain": [
       "         Total                                                     \\\n",
       "         count         mean         std          min          25%   \n",
       "cluster                                                             \n",
       "0       11.000   784845.818  898153.915    28171.000    85540.000   \n",
       "1       52.000    91414.250  254021.760        0.000       36.000   \n",
       "2        1.000 56674832.000         NaN 56674832.000 56674832.000   \n",
       "3       27.000   268622.222  565650.094      279.000    10410.000   \n",
       "4        1.000 13092618.000         NaN 13092618.000 13092618.000   \n",
       "5        6.000  2256780.833 4837960.714       53.000    48717.750   \n",
       "6       21.000   156302.905  159791.864        0.000    13036.000   \n",
       "\n",
       "                                               Rentang Greentick Ke Juni 2023  \\\n",
       "                 50%          75%          max                          count   \n",
       "cluster                                                                         \n",
       "0         346373.000  1334839.000  2350727.000                         11.000   \n",
       "1           2374.000    24847.500  1578066.000                         52.000   \n",
       "2       56674832.000 56674832.000 56674832.000                          1.000   \n",
       "3          52302.000   148629.000  2251775.000                         27.000   \n",
       "4       13092618.000 13092618.000 13092618.000                          1.000   \n",
       "5         272780.000   751531.000 12109927.000                          6.000   \n",
       "6         136700.000   222922.000   548672.000                         21.000   \n",
       "\n",
       "                ...               Rata-rata                         \\\n",
       "          mean  ...    75%    max     count        mean        std   \n",
       "cluster         ...                                                  \n",
       "0       29.455  ... 31.000 32.000    11.000   46167.909  52832.625   \n",
       "1        4.077  ...  6.000  8.000    52.000   17080.865  49133.384   \n",
       "2       36.000  ... 36.000 36.000     1.000 3333814.000        NaN   \n",
       "3       12.667  ... 14.000 16.000    27.000   22126.407  49930.833   \n",
       "4        9.000  ...  9.000  9.000     1.000 1454736.000        NaN   \n",
       "5       37.833  ... 39.500 41.000     6.000  132752.333 284585.831   \n",
       "6       21.762  ... 24.000 25.000    21.000    9194.762   9399.624   \n",
       "\n",
       "                                                                     \n",
       "                min         25%         50%         75%         max  \n",
       "cluster                                                              \n",
       "0          1658.000    5032.500   20375.000   78520.500  138279.000  \n",
       "1             0.000       9.750     562.000    7125.250  315614.000  \n",
       "2       3333814.000 3333814.000 3333814.000 3333814.000 3333814.000  \n",
       "3            28.000     926.000    3509.000   11420.000  204707.000  \n",
       "4       1454736.000 1454736.000 1454736.000 1454736.000 1454736.000  \n",
       "5             4.000    2866.250   16046.500   44208.000  712349.000  \n",
       "6             0.000     767.000    8042.000   13114.000   32275.000  \n",
       "\n",
       "[7 rows x 24 columns]"
      ]
     },
     "execution_count": 12,
     "metadata": {},
     "output_type": "execute_result"
    }
   ],
   "source": [
    "df.groupby('cluster').describe()"
   ]
  },
  {
   "cell_type": "code",
   "execution_count": 13,
   "metadata": {},
   "outputs": [
    {
     "data": {
      "text/plain": [
       "<Axes: xlabel='cluster', ylabel='Rata-rata'>"
      ]
     },
     "execution_count": 13,
     "metadata": {},
     "output_type": "execute_result"
    },
    {
     "data": {
      "image/png": "[encoded data removed]",
      "text/plain": [
       "<Figure size 432x288 with 1 Axes>"
      ]
     },
     "metadata": {
      "needs_background": "light"
     },
     "output_type": "display_data"
    }
   ],
   "source": [
    "sns.boxplot(x='cluster', y='Rata-rata', data=df)"
   ]
  },
  {
   "cell_type": "code",
   "execution_count": 14,
   "metadata": {},
   "outputs": [],
   "source": [
    "df1 = df.copy()\n",
    "df1 = df1[(df1['cluster']!=2) & (df1['cluster']!=4)]"
   ]
  },
  {
   "cell_type": "code",
   "execution_count": 15,
   "metadata": {},
   "outputs": [
    {
     "data": {
      "text/plain": [
       "<Axes: xlabel='cluster', ylabel='Rata-rata'>"
      ]
     },
     "execution_count": 15,
     "metadata": {},
     "output_type": "execute_result"
    },
    {
     "data": {
      "image/png": "[encoded data removed]",
      "text/plain": [
       "<Figure size 432x288 with 1 Axes>"
      ]
     },
     "metadata": {
      "needs_background": "light"
     },
     "output_type": "display_data"
    }
   ],
   "source": [
    "sns.boxplot(x='cluster', y='Rata-rata', data=df1)"
   ]
  },
  {
   "cell_type": "code",
   "execution_count": 16,
   "metadata": {},
   "outputs": [
    {
     "data": {
      "text/plain": [
       "<Axes: xlabel='cluster', ylabel='Rata-rata'>"
      ]
     },
     "execution_count": 16,
     "metadata": {},
     "output_type": "execute_result"
    },
    {
     "data": {
      "image/png": "[encoded data removed]",
      "text/plain": [
       "<Figure size 432x288 with 1 Axes>"
      ]
     },
     "metadata": {
      "needs_background": "light"
     },
     "output_type": "display_data"
    }
   ],
   "source": [
    "sns.boxplot(x='cluster', y='Rata-rata', data=df1[df1['cluster'] == 3])"
   ]
  },
  {
   "cell_type": "code",
   "execution_count": 17,
   "metadata": {},
   "outputs": [],
   "source": [
    "X = df1[fitur]\n",
    "scaller = MinMaxScaler()\n",
    "X = scaller.fit_transform(X)\n",
    "X = pd.DataFrame(X, columns=fitur)"
   ]
  },
  {
   "cell_type": "code",
   "execution_count": 18,
   "metadata": {},
   "outputs": [
    {
     "data": {
      "image/png": "[encoded data removed]",
      "text/plain": [
       "<Figure size 432x288 with 1 Axes>"
      ]
     },
     "metadata": {
      "needs_background": "light"
     },
     "output_type": "display_data"
    }
   ],
   "source": [
    "n_clusters = range(2, 11)\n",
    "inertia = []\n",
    "silhouette = []\n",
    "ch_index = []\n",
    "\n",
    "for k in n_clusters:\n",
    "    model = KMeans(n_clusters=k, max_iter=500, n_init=50, random_state=42)\n",
    "    member = model.fit_predict(X, y=None) \n",
    "\n",
    "    silhouette_avg = silhouette_score(X, member)\n",
    "    ch_index_score = calinski_harabasz_score(X, member)\n",
    "\n",
    "    inertia.append(model.inertia_)\n",
    "    silhouette.append(silhouette_avg)\n",
    "    ch_index.append(ch_index_score)\n",
    "\n",
    "plt.plot(n_clusters, inertia, 'bx-')\n",
    "plt.xlabel('Jumlah k')\n",
    "plt.ylabel('Inersia')\n",
    "plt.title('Metode Elbow untuk Menentukan Jumlah k Terbaik')\n",
    "plt.show()"
   ]
  },
  {
   "cell_type": "code",
   "execution_count": 19,
   "metadata": {},
   "outputs": [
    {
     "name": "stdout",
     "output_type": "stream",
     "text": [
      "Jumlah Cluster = 2\n",
      "Silhouette Score = 0.6058977511576127\n",
      "CH Index Score = 154.9966051753943\n",
      "\n",
      "Jumlah Cluster = 3\n",
      "Silhouette Score = 0.6124513012378733\n",
      "CH Index Score = 176.94204970235768\n",
      "\n",
      "Jumlah Cluster = 4\n",
      "Silhouette Score = 0.5180322360559516\n",
      "CH Index Score = 210.7918147392715\n",
      "\n",
      "Jumlah Cluster = 5\n",
      "Silhouette Score = 0.5114673783552228\n",
      "CH Index Score = 237.07056198963372\n",
      "\n",
      "Jumlah Cluster = 6\n",
      "Silhouette Score = 0.5460962726799732\n",
      "CH Index Score = 276.8796961500601\n",
      "\n",
      "Jumlah Cluster = 7\n",
      "Silhouette Score = 0.5584521245665618\n",
      "CH Index Score = 306.7678721897404\n",
      "\n",
      "Jumlah Cluster = 8\n",
      "Silhouette Score = 0.5084822585625216\n",
      "CH Index Score = 348.7626511787738\n",
      "\n",
      "Jumlah Cluster = 9\n",
      "Silhouette Score = 0.5157022286919936\n",
      "CH Index Score = 394.8659285085443\n",
      "\n",
      "Jumlah Cluster = 10\n",
      "Silhouette Score = 0.5322785020851076\n",
      "CH Index Score = 406.60591011802467\n",
      "\n",
      "\n",
      "Cluster Terbaik Berdasarkan CH Index dan Silhoutte Score\n",
      "Jumlah Cluster Silhoutte = 3\n",
      "Nilai Silhoutte Score = 0.6124513012378733\n",
      "\n",
      "Jumlah Cluster CH Index = 10\n",
      "Nilai CH Index Score = 406.60591011802467\n",
      "\n"
     ]
    }
   ],
   "source": [
    "for i, s, c in zip(n_clusters, silhouette, ch_index):\n",
    "    silhouette_avg = silhouette.index(max(silhouette))\n",
    "    ch_index_score = ch_index.index(max(ch_index))\n",
    "\n",
    "    print(f\"Jumlah Cluster = {i}\\nSilhouette Score = {s}\\nCH Index Score = {c}\\n\")\n",
    "\n",
    "k_silhoutte = range(2, 11)[silhouette_avg]\n",
    "k_ch_index = range(2, 11)[ch_index_score]\n",
    "\n",
    "print('\\nCluster Terbaik Berdasarkan CH Index dan Silhoutte Score')\n",
    "print(f'Jumlah Cluster Silhoutte = {k_silhoutte}')\n",
    "print(f'Nilai Silhoutte Score = {max(silhouette)}\\n')\n",
    "\n",
    "print(f'Jumlah Cluster CH Index = {k_ch_index}')\n",
    "print(f'Nilai CH Index Score = {max(ch_index)}\\n')"
   ]
  },
  {
   "cell_type": "code",
   "execution_count": 20,
   "metadata": {},
   "outputs": [
    {
     "data": {
      "text/plain": [
       "0    51\n",
       "5    25\n",
       "1    21\n",
       "3    16\n",
       "4     3\n",
       "2     1\n",
       "Name: cluster, dtype: int64"
      ]
     },
     "execution_count": 20,
     "metadata": {},
     "output_type": "execute_result"
    }
   ],
   "source": [
    "kmeans = KMeans(n_clusters=6, max_iter=500, n_init=50, random_state=42)\n",
    "member = kmeans.fit_predict(X)\n",
    "\n",
    "df1['cluster'] = kmeans.labels_\n",
    "df1['cluster'].value_counts()"
   ]
  },
  {
   "cell_type": "code",
   "execution_count": 21,
   "metadata": {},
   "outputs": [
    {
     "name": "stderr",
     "output_type": "stream",
     "text": [
      "C:\\Users\\Jayy\\AppData\\Local\\Temp\\ipykernel_17336\\1858139095.py:1: FutureWarning: The default value of numeric_only in DataFrameGroupBy.mean is deprecated. In a future version, numeric_only will default to False. Either specify numeric_only or select only columns which should be valid for the function.\n",
      "  df1.groupby('cluster').mean().sort_values(by='Rata-rata', ascending=False)\n"
     ]
    },
    {
     "data": {
      "text/html": [
       "<div>\n",
       "<style scoped>\n",
       "    .dataframe tbody tr th:only-of-type {\n",
       "        vertical-align: middle;\n",
       "    }\n",
       "\n",
       "    .dataframe tbody tr th {\n",
       "        vertical-align: top;\n",
       "    }\n",
       "\n",
       "    .dataframe thead th {\n",
       "        text-align: right;\n",
       "    }\n",
       "</style>\n",
       "<table border=\"1\" class=\"dataframe\">\n",
       "  <thead>\n",
       "    <tr style=\"text-align: right;\">\n",
       "      <th></th>\n",
       "      <th>Total</th>\n",
       "      <th>Rentang Greentick Ke Juni 2023</th>\n",
       "      <th>Rata-rata</th>\n",
       "    </tr>\n",
       "    <tr>\n",
       "      <th>cluster</th>\n",
       "      <th></th>\n",
       "      <th></th>\n",
       "      <th></th>\n",
       "    </tr>\n",
       "  </thead>\n",
       "  <tbody>\n",
       "    <tr>\n",
       "      <th>2</th>\n",
       "      <td>12109927.000</td>\n",
       "      <td>34.000</td>\n",
       "      <td>712349.000</td>\n",
       "    </tr>\n",
       "    <tr>\n",
       "      <th>4</th>\n",
       "      <td>1888993.333</td>\n",
       "      <td>9.000</td>\n",
       "      <td>229111.333</td>\n",
       "    </tr>\n",
       "    <tr>\n",
       "      <th>3</th>\n",
       "      <td>629003.875</td>\n",
       "      <td>32.312</td>\n",
       "      <td>37000.750</td>\n",
       "    </tr>\n",
       "    <tr>\n",
       "      <th>0</th>\n",
       "      <td>62264.216</td>\n",
       "      <td>4.059</td>\n",
       "      <td>11227.275</td>\n",
       "    </tr>\n",
       "    <tr>\n",
       "      <th>1</th>\n",
       "      <td>156302.905</td>\n",
       "      <td>21.762</td>\n",
       "      <td>9194.762</td>\n",
       "    </tr>\n",
       "    <tr>\n",
       "      <th>5</th>\n",
       "      <td>126555.440</td>\n",
       "      <td>12.800</td>\n",
       "      <td>9027.720</td>\n",
       "    </tr>\n",
       "  </tbody>\n",
       "</table>\n",
       "</div>"
      ],
      "text/plain": [
       "               Total  Rentang Greentick Ke Juni 2023  Rata-rata\n",
       "cluster                                                        \n",
       "2       12109927.000                          34.000 712349.000\n",
       "4        1888993.333                           9.000 229111.333\n",
       "3         629003.875                          32.312  37000.750\n",
       "0          62264.216                           4.059  11227.275\n",
       "1         156302.905                          21.762   9194.762\n",
       "5         126555.440                          12.800   9027.720"
      ]
     },
     "execution_count": 21,
     "metadata": {},
     "output_type": "execute_result"
    }
   ],
   "source": [
    "df1.groupby('cluster').mean().sort_values(by='Rata-rata', ascending=False)"
   ]
  },
  {
   "cell_type": "code",
   "execution_count": 22,
   "metadata": {},
   "outputs": [],
   "source": [
    "from scipy import stats\n",
    "df2 = data.copy()\n",
    "# df2 = (df2[(np.abs(stats.zscore(df2[fitur])) < 3).all(axis=1)])\n",
    "# df2.shape"
   ]
  },
  {
   "cell_type": "code",
   "execution_count": 23,
   "metadata": {},
   "outputs": [
    {
     "data": {
      "text/plain": [
       "Text(0, 0.5, 'Density')"
      ]
     },
     "execution_count": 23,
     "metadata": {},
     "output_type": "execute_result"
    },
    {
     "data": {
      "image/png": "[encoded data removed]",
      "text/plain": [
       "<Figure size 1440x576 with 3 Axes>"
      ]
     },
     "metadata": {
      "needs_background": "light"
     },
     "output_type": "display_data"
    }
   ],
   "source": [
    "# make plot to see the distribution of the data\n",
    "fig, ax = plt.subplots(1, 3, figsize=(20, 8))\n",
    "fig.suptitle(\"Distribusi Data\", fontsize=20, y=0.9)\n",
    "sns.histplot(df2[\"Total\"], ax=ax[0], fill=False, stat=\"density\").set_xlabel('Harga Total', fontsize=14)\n",
    "sns.kdeplot(df2[\"Total\"], ax=ax[0], color=\"red\").set_ylabel('Density', fontsize=14)\n",
    "\n",
    "sns.histplot(df2[\"Rentang Greentick Ke Juni 2023\"], ax=ax[1], fill=False, stat=\"density\").set_xlabel('Harga Rentang Greentick Ke Juni 2023', fontsize=14)\n",
    "sns.kdeplot(df2[\"Rentang Greentick Ke Juni 2023\"], color=\"red\", ax=ax[1]).set_ylabel('Density', fontsize=14)\n",
    "\n",
    "sns.histplot(df2[\"Rata-rata\"], ax=ax[2], fill=False, stat=\"density\").set_xlabel('Harga Rata-rata', fontsize=14)\n",
    "sns.kdeplot(df2[\"Rata-rata\"], color=\"red\", ax=ax[2]).set_ylabel('Density', fontsize=14)"
   ]
  },
  {
   "cell_type": "code",
   "execution_count": 24,
   "metadata": {},
   "outputs": [
    {
     "name": "stderr",
     "output_type": "stream",
     "text": [
      "C:\\Users\\Jayy\\AppData\\Local\\Temp\\ipykernel_17336\\898561981.py:1: FutureWarning: The default value of numeric_only in DataFrame.quantile is deprecated. In a future version, it will default to False. Select only valid columns or specify the value of numeric_only to silence this warning.\n",
      "  df2.quantile(0.25)\n"
     ]
    },
    {
     "data": {
      "text/plain": [
       "Total                            1713.000\n",
       "Rentang Greentick Ke Juni 2023      4.000\n",
       "Rata-rata                         203.000\n",
       "Name: 0.25, dtype: float64"
      ]
     },
     "execution_count": 24,
     "metadata": {},
     "output_type": "execute_result"
    }
   ],
   "source": [
    "df2.quantile(0.25)"
   ]
  },
  {
   "cell_type": "code",
   "execution_count": 25,
   "metadata": {},
   "outputs": [
    {
     "name": "stderr",
     "output_type": "stream",
     "text": [
      "C:\\Users\\Jayy\\AppData\\Local\\Temp\\ipykernel_17336\\1098644295.py:1: FutureWarning: The default value of numeric_only in DataFrame.quantile is deprecated. In a future version, it will default to False. Select only valid columns or specify the value of numeric_only to silence this warning.\n",
      "  df2.quantile(0.75)\n"
     ]
    },
    {
     "data": {
      "text/plain": [
       "Total                            212140.000\n",
       "Rentang Greentick Ke Juni 2023       20.000\n",
       "Rata-rata                         15273.000\n",
       "Name: 0.75, dtype: float64"
      ]
     },
     "execution_count": 25,
     "metadata": {},
     "output_type": "execute_result"
    }
   ],
   "source": [
    "df2.quantile(0.75)"
   ]
  },
  {
   "cell_type": "code",
   "execution_count": 26,
   "metadata": {},
   "outputs": [
    {
     "name": "stderr",
     "output_type": "stream",
     "text": [
      "C:\\Users\\Jayy\\AppData\\Local\\Temp\\ipykernel_17336\\1989557104.py:1: FutureWarning: The default value of numeric_only in DataFrame.quantile is deprecated. In a future version, it will default to False. Select only valid columns or specify the value of numeric_only to silence this warning.\n",
      "  Q1 = data.quantile(0.25)\n",
      "C:\\Users\\Jayy\\AppData\\Local\\Temp\\ipykernel_17336\\1989557104.py:2: FutureWarning: The default value of numeric_only in DataFrame.quantile is deprecated. In a future version, it will default to False. Select only valid columns or specify the value of numeric_only to silence this warning.\n",
      "  Q3 = data.quantile(0.75)\n",
      "C:\\Users\\Jayy\\AppData\\Local\\Temp\\ipykernel_17336\\1989557104.py:5: FutureWarning: Automatic reindexing on DataFrame vs Series comparisons is deprecated and will raise ValueError in a future version. Do `left, right = left.align(right, axis=1, copy=False)` before e.g. `left == right`\n",
      "  df2=df2[~((df2<(Q1-1.5*IQR))|(df2>(Q3+1.5*IQR))).any(axis=1)]\n"
     ]
    },
    {
     "data": {
      "text/html": [
       "<div>\n",
       "<style scoped>\n",
       "    .dataframe tbody tr th:only-of-type {\n",
       "        vertical-align: middle;\n",
       "    }\n",
       "\n",
       "    .dataframe tbody tr th {\n",
       "        vertical-align: top;\n",
       "    }\n",
       "\n",
       "    .dataframe thead th {\n",
       "        text-align: right;\n",
       "    }\n",
       "</style>\n",
       "<table border=\"1\" class=\"dataframe\">\n",
       "  <thead>\n",
       "    <tr style=\"text-align: right;\">\n",
       "      <th></th>\n",
       "      <th>Total</th>\n",
       "      <th>Rentang Greentick Ke Juni 2023</th>\n",
       "      <th>Rata-rata</th>\n",
       "    </tr>\n",
       "  </thead>\n",
       "  <tbody>\n",
       "    <tr>\n",
       "      <th>count</th>\n",
       "      <td>98.000</td>\n",
       "      <td>98.000</td>\n",
       "      <td>98.000</td>\n",
       "    </tr>\n",
       "    <tr>\n",
       "      <th>mean</th>\n",
       "      <td>62198.265</td>\n",
       "      <td>12.500</td>\n",
       "      <td>4888.755</td>\n",
       "    </tr>\n",
       "    <tr>\n",
       "      <th>std</th>\n",
       "      <td>102077.667</td>\n",
       "      <td>10.164</td>\n",
       "      <td>6912.454</td>\n",
       "    </tr>\n",
       "    <tr>\n",
       "      <th>min</th>\n",
       "      <td>0.000</td>\n",
       "      <td>0.000</td>\n",
       "      <td>0.000</td>\n",
       "    </tr>\n",
       "    <tr>\n",
       "      <th>25%</th>\n",
       "      <td>368.750</td>\n",
       "      <td>4.000</td>\n",
       "      <td>127.750</td>\n",
       "    </tr>\n",
       "    <tr>\n",
       "      <th>50%</th>\n",
       "      <td>15341.000</td>\n",
       "      <td>10.500</td>\n",
       "      <td>1791.500</td>\n",
       "    </tr>\n",
       "    <tr>\n",
       "      <th>75%</th>\n",
       "      <td>69343.250</td>\n",
       "      <td>20.000</td>\n",
       "      <td>6763.750</td>\n",
       "    </tr>\n",
       "    <tr>\n",
       "      <th>max</th>\n",
       "      <td>454770.000</td>\n",
       "      <td>41.000</td>\n",
       "      <td>26752.000</td>\n",
       "    </tr>\n",
       "  </tbody>\n",
       "</table>\n",
       "</div>"
      ],
      "text/plain": [
       "           Total  Rentang Greentick Ke Juni 2023  Rata-rata\n",
       "count     98.000                          98.000     98.000\n",
       "mean   62198.265                          12.500   4888.755\n",
       "std   102077.667                          10.164   6912.454\n",
       "min        0.000                           0.000      0.000\n",
       "25%      368.750                           4.000    127.750\n",
       "50%    15341.000                          10.500   1791.500\n",
       "75%    69343.250                          20.000   6763.750\n",
       "max   454770.000                          41.000  26752.000"
      ]
     },
     "execution_count": 26,
     "metadata": {},
     "output_type": "execute_result"
    }
   ],
   "source": [
    "Q1 = data.quantile(0.25)\n",
    "Q3 = data.quantile(0.75)\n",
    "IQR=Q3-Q1\n",
    "\n",
    "df2=df2[~((df2<(Q1-1.5*IQR))|(df2>(Q3+1.5*IQR))).any(axis=1)]\n",
    "df2.describe()"
   ]
  },
  {
   "cell_type": "code",
   "execution_count": 27,
   "metadata": {},
   "outputs": [
    {
     "data": {
      "text/plain": [
       "Text(0, 0.5, 'Density')"
      ]
     },
     "execution_count": 27,
     "metadata": {},
     "output_type": "execute_result"
    },
    {
     "data": {
      "image/png": "[encoded data removed]",
      "text/plain": [
       "<Figure size 1440x576 with 3 Axes>"
      ]
     },
     "metadata": {
      "needs_background": "light"
     },
     "output_type": "display_data"
    }
   ],
   "source": [
    "# make plot to see the distribution of the data\n",
    "fig, ax = plt.subplots(1, 3, figsize=(20, 8))\n",
    "fig.suptitle(\"Distribusi Data\", fontsize=20, y=0.9)\n",
    "sns.histplot(df2[\"Total\"], ax=ax[0], fill=False, stat=\"density\").set_xlabel('Harga Total', fontsize=14)\n",
    "sns.kdeplot(df2[\"Total\"], ax=ax[0], color=\"red\").set_ylabel('Density', fontsize=14)\n",
    "\n",
    "sns.histplot(df2[\"Rentang Greentick Ke Juni 2023\"], ax=ax[1], fill=False, stat=\"density\").set_xlabel('Harga Rentang Greentick Ke Juni 2023', fontsize=14)\n",
    "sns.kdeplot(df2[\"Rentang Greentick Ke Juni 2023\"], color=\"red\", ax=ax[1]).set_ylabel('Density', fontsize=14)\n",
    "\n",
    "sns.histplot(df2[\"Rata-rata\"], ax=ax[2], fill=False, stat=\"density\").set_xlabel('Harga Rata-rata', fontsize=14)\n",
    "sns.kdeplot(df2[\"Rata-rata\"], color=\"red\", ax=ax[2]).set_ylabel('Density', fontsize=14)"
   ]
  },
  {
   "cell_type": "code",
   "execution_count": 28,
   "metadata": {},
   "outputs": [],
   "source": [
    "X = df2[fitur]\n",
    "# scaller = MinMaxScaler()\n",
    "# X = scaller.fit_transform(X)\n",
    "# X = pd.DataFrame(X, columns=fitur)"
   ]
  },
  {
   "cell_type": "code",
   "execution_count": 29,
   "metadata": {},
   "outputs": [
    {
     "data": {
      "image/png": "[encoded data removed]",
      "text/plain": [
       "<Figure size 432x288 with 1 Axes>"
      ]
     },
     "metadata": {
      "needs_background": "light"
     },
     "output_type": "display_data"
    }
   ],
   "source": [
    "n_clusters = range(2, 11)\n",
    "inertia = []\n",
    "silhouette = []\n",
    "ch_index = []\n",
    "\n",
    "for k in n_clusters:\n",
    "    model = KMeans(n_clusters=k, max_iter=500, n_init=50, random_state=42)\n",
    "    member = model.fit_predict(X, y=None) \n",
    "\n",
    "    silhouette_avg = silhouette_score(X, member)\n",
    "    ch_index_score = calinski_harabasz_score(X, member)\n",
    "\n",
    "    inertia.append(model.inertia_)\n",
    "    silhouette.append(silhouette_avg)\n",
    "    ch_index.append(ch_index_score)\n",
    "\n",
    "plt.plot(n_clusters, inertia, 'bx-')\n",
    "plt.xlabel('Jumlah k')\n",
    "plt.ylabel('Inersia')\n",
    "plt.title('Metode Elbow untuk Menentukan Jumlah k Terbaik')\n",
    "plt.show()"
   ]
  },
  {
   "cell_type": "code",
   "execution_count": 30,
   "metadata": {},
   "outputs": [
    {
     "name": "stdout",
     "output_type": "stream",
     "text": [
      "Jumlah Cluster = 2\n",
      "Silhouette Score = 0.777623164715673\n",
      "CH Index Score = 281.8023526743534\n",
      "\n",
      "Jumlah Cluster = 3\n",
      "Silhouette Score = 0.7769168906722781\n",
      "CH Index Score = 524.8582971636218\n",
      "\n",
      "Jumlah Cluster = 4\n",
      "Silhouette Score = 0.7076079728095555\n",
      "CH Index Score = 644.8770979974039\n",
      "\n",
      "Jumlah Cluster = 5\n",
      "Silhouette Score = 0.6928064145280435\n",
      "CH Index Score = 758.9085275755766\n",
      "\n",
      "Jumlah Cluster = 6\n",
      "Silhouette Score = 0.6910088152223954\n",
      "CH Index Score = 931.389671020672\n",
      "\n",
      "Jumlah Cluster = 7\n",
      "Silhouette Score = 0.6711312653257878\n",
      "CH Index Score = 1093.8218143897445\n",
      "\n",
      "Jumlah Cluster = 8\n",
      "Silhouette Score = 0.6718990519383646\n",
      "CH Index Score = 1230.4305202377543\n",
      "\n",
      "Jumlah Cluster = 9\n",
      "Silhouette Score = 0.6802519445343274\n",
      "CH Index Score = 1561.9521485156847\n",
      "\n",
      "Jumlah Cluster = 10\n",
      "Silhouette Score = 0.6934863043056604\n",
      "CH Index Score = 1724.459885571471\n",
      "\n",
      "\n",
      "Cluster Terbaik Berdasarkan CH Index dan Silhoutte Score\n",
      "Jumlah Cluster Silhoutte = 2\n",
      "Nilai Silhoutte Score = 0.777623164715673\n",
      "\n",
      "Jumlah Cluster CH Index = 10\n",
      "Nilai CH Index Score = 1724.459885571471\n",
      "\n"
     ]
    }
   ],
   "source": [
    "for i, s, c in zip(n_clusters, silhouette, ch_index):\n",
    "    silhouette_avg = silhouette.index(max(silhouette))\n",
    "    ch_index_score = ch_index.index(max(ch_index))\n",
    "\n",
    "    print(f\"Jumlah Cluster = {i}\\nSilhouette Score = {s}\\nCH Index Score = {c}\\n\")\n",
    "\n",
    "k_silhoutte = range(2, 11)[silhouette_avg]\n",
    "k_ch_index = range(2, 11)[ch_index_score]\n",
    "\n",
    "print('\\nCluster Terbaik Berdasarkan CH Index dan Silhoutte Score')\n",
    "print(f'Jumlah Cluster Silhoutte = {k_silhoutte}')\n",
    "print(f'Nilai Silhoutte Score = {max(silhouette)}\\n')\n",
    "\n",
    "print(f'Jumlah Cluster CH Index = {k_ch_index}')\n",
    "print(f'Nilai CH Index Score = {max(ch_index)}\\n')"
   ]
  },
  {
   "cell_type": "code",
   "execution_count": 31,
   "metadata": {},
   "outputs": [
    {
     "data": {
      "text/plain": [
       "0    77\n",
       "1    15\n",
       "2     6\n",
       "Name: cluster, dtype: int64"
      ]
     },
     "execution_count": 31,
     "metadata": {},
     "output_type": "execute_result"
    }
   ],
   "source": [
    "kmeans = KMeans(n_clusters=3, max_iter=500, n_init=50, random_state=42)\n",
    "member = kmeans.fit_predict(X)\n",
    "\n",
    "df2['cluster'] = kmeans.labels_\n",
    "df2['cluster'].value_counts()"
   ]
  },
  {
   "cell_type": "code",
   "execution_count": 32,
   "metadata": {},
   "outputs": [
    {
     "name": "stderr",
     "output_type": "stream",
     "text": [
      "C:\\Users\\Jayy\\AppData\\Local\\Temp\\ipykernel_17336\\185097041.py:1: FutureWarning: The default value of numeric_only in DataFrameGroupBy.mean is deprecated. In a future version, numeric_only will default to False. Either specify numeric_only or select only columns which should be valid for the function.\n",
      "  df2.groupby('cluster').mean().sort_values(by='Rata-rata', ascending=False)\n"
     ]
    },
    {
     "data": {
      "text/html": [
       "<div>\n",
       "<style scoped>\n",
       "    .dataframe tbody tr th:only-of-type {\n",
       "        vertical-align: middle;\n",
       "    }\n",
       "\n",
       "    .dataframe tbody tr th {\n",
       "        vertical-align: top;\n",
       "    }\n",
       "\n",
       "    .dataframe thead th {\n",
       "        text-align: right;\n",
       "    }\n",
       "</style>\n",
       "<table border=\"1\" class=\"dataframe\">\n",
       "  <thead>\n",
       "    <tr style=\"text-align: right;\">\n",
       "      <th></th>\n",
       "      <th>Total</th>\n",
       "      <th>Rentang Greentick Ke Juni 2023</th>\n",
       "      <th>Rata-rata</th>\n",
       "    </tr>\n",
       "    <tr>\n",
       "      <th>cluster</th>\n",
       "      <th></th>\n",
       "      <th></th>\n",
       "      <th></th>\n",
       "    </tr>\n",
       "  </thead>\n",
       "  <tbody>\n",
       "    <tr>\n",
       "      <th>2</th>\n",
       "      <td>380653.667</td>\n",
       "      <td>24.167</td>\n",
       "      <td>22860.167</td>\n",
       "    </tr>\n",
       "    <tr>\n",
       "      <th>1</th>\n",
       "      <td>166347.600</td>\n",
       "      <td>20.733</td>\n",
       "      <td>11895.067</td>\n",
       "    </tr>\n",
       "    <tr>\n",
       "      <th>0</th>\n",
       "      <td>17094.727</td>\n",
       "      <td>9.987</td>\n",
       "      <td>2123.519</td>\n",
       "    </tr>\n",
       "  </tbody>\n",
       "</table>\n",
       "</div>"
      ],
      "text/plain": [
       "             Total  Rentang Greentick Ke Juni 2023  Rata-rata\n",
       "cluster                                                      \n",
       "2       380653.667                          24.167  22860.167\n",
       "1       166347.600                          20.733  11895.067\n",
       "0        17094.727                           9.987   2123.519"
      ]
     },
     "execution_count": 32,
     "metadata": {},
     "output_type": "execute_result"
    }
   ],
   "source": [
    "df2.groupby('cluster').mean().sort_values(by='Rata-rata', ascending=False)"
   ]
  },
  {
   "cell_type": "code",
   "execution_count": 33,
   "metadata": {},
   "outputs": [
    {
     "data": {
      "text/plain": [
       "<Axes: xlabel='cluster', ylabel='Rata-rata'>"
      ]
     },
     "execution_count": 33,
     "metadata": {},
     "output_type": "execute_result"
    },
    {
     "data": {
      "image/png": "[encoded data removed]",
      "text/plain": [
       "<Figure size 432x288 with 1 Axes>"
      ]
     },
     "metadata": {
      "needs_background": "light"
     },
     "output_type": "display_data"
    }
   ],
   "source": [
    "sns.boxplot(x='cluster', y='Rata-rata', data=df2[df2['cluster'] == 0])"
   ]
  },
  {
   "cell_type": "code",
   "execution_count": 34,
   "metadata": {},
   "outputs": [],
   "source": [
    "# sns.boxplot(x='cluster', y='Rata-rata', data=df2[df2['cluster'] == 3])"
   ]
  },
  {
   "cell_type": "code",
   "execution_count": 35,
   "metadata": {},
   "outputs": [
    {
     "data": {
      "text/html": [
       "<div>\n",
       "<style scoped>\n",
       "    .dataframe tbody tr th:only-of-type {\n",
       "        vertical-align: middle;\n",
       "    }\n",
       "\n",
       "    .dataframe tbody tr th {\n",
       "        vertical-align: top;\n",
       "    }\n",
       "\n",
       "    .dataframe thead th {\n",
       "        text-align: right;\n",
       "    }\n",
       "</style>\n",
       "<table border=\"1\" class=\"dataframe\">\n",
       "  <thead>\n",
       "    <tr style=\"text-align: right;\">\n",
       "      <th></th>\n",
       "      <th>Total</th>\n",
       "      <th>Rentang Greentick Ke Juni 2023</th>\n",
       "      <th>Rata-rata</th>\n",
       "      <th>cluster</th>\n",
       "    </tr>\n",
       "  </thead>\n",
       "  <tbody>\n",
       "    <tr>\n",
       "      <th>count</th>\n",
       "      <td>77.000</td>\n",
       "      <td>77.000</td>\n",
       "      <td>77.000</td>\n",
       "      <td>77.000</td>\n",
       "    </tr>\n",
       "    <tr>\n",
       "      <th>mean</th>\n",
       "      <td>17094.727</td>\n",
       "      <td>9.987</td>\n",
       "      <td>2123.519</td>\n",
       "      <td>0.000</td>\n",
       "    </tr>\n",
       "    <tr>\n",
       "      <th>std</th>\n",
       "      <td>23014.336</td>\n",
       "      <td>9.217</td>\n",
       "      <td>3341.306</td>\n",
       "      <td>0.000</td>\n",
       "    </tr>\n",
       "    <tr>\n",
       "      <th>min</th>\n",
       "      <td>0.000</td>\n",
       "      <td>0.000</td>\n",
       "      <td>0.000</td>\n",
       "      <td>0.000</td>\n",
       "    </tr>\n",
       "    <tr>\n",
       "      <th>25%</th>\n",
       "      <td>189.000</td>\n",
       "      <td>3.000</td>\n",
       "      <td>31.000</td>\n",
       "      <td>0.000</td>\n",
       "    </tr>\n",
       "    <tr>\n",
       "      <th>50%</th>\n",
       "      <td>5311.000</td>\n",
       "      <td>7.000</td>\n",
       "      <td>571.000</td>\n",
       "      <td>0.000</td>\n",
       "    </tr>\n",
       "    <tr>\n",
       "      <th>75%</th>\n",
       "      <td>25989.000</td>\n",
       "      <td>14.000</td>\n",
       "      <td>3363.000</td>\n",
       "      <td>0.000</td>\n",
       "    </tr>\n",
       "    <tr>\n",
       "      <th>max</th>\n",
       "      <td>82788.000</td>\n",
       "      <td>41.000</td>\n",
       "      <td>20697.000</td>\n",
       "      <td>0.000</td>\n",
       "    </tr>\n",
       "  </tbody>\n",
       "</table>\n",
       "</div>"
      ],
      "text/plain": [
       "          Total  Rentang Greentick Ke Juni 2023  Rata-rata  cluster\n",
       "count    77.000                          77.000     77.000   77.000\n",
       "mean  17094.727                           9.987   2123.519    0.000\n",
       "std   23014.336                           9.217   3341.306    0.000\n",
       "min       0.000                           0.000      0.000    0.000\n",
       "25%     189.000                           3.000     31.000    0.000\n",
       "50%    5311.000                           7.000    571.000    0.000\n",
       "75%   25989.000                          14.000   3363.000    0.000\n",
       "max   82788.000                          41.000  20697.000    0.000"
      ]
     },
     "execution_count": 35,
     "metadata": {},
     "output_type": "execute_result"
    }
   ],
   "source": [
    "df2[df2['cluster'] == 0].describe()"
   ]
  },
  {
   "cell_type": "code",
   "execution_count": 36,
   "metadata": {},
   "outputs": [
    {
     "data": {
      "text/plain": [
       "(117, 4)"
      ]
     },
     "execution_count": 36,
     "metadata": {},
     "output_type": "execute_result"
    }
   ],
   "source": [
    "from scipy import stats\n",
    "df2 = data.copy()\n",
    "df2 = (df2[(np.abs(stats.zscore(df2[fitur])) < 3).all(axis=1)])\n",
    "df2.shape"
   ]
  },
  {
   "cell_type": "code",
   "execution_count": 37,
   "metadata": {},
   "outputs": [
    {
     "data": {
      "image/png": "[encoded data removed]",
      "text/plain": [
       "<Figure size 432x288 with 1 Axes>"
      ]
     },
     "metadata": {
      "needs_background": "light"
     },
     "output_type": "display_data"
    }
   ],
   "source": [
    "X = df2[fitur]\n",
    "\n",
    "n_clusters = range(2, 11)\n",
    "inertia = []\n",
    "silhouette = []\n",
    "ch_index = []\n",
    "\n",
    "for k in n_clusters:\n",
    "    model = KMeans(n_clusters=k, max_iter=500, n_init=50, random_state=42)\n",
    "    member = model.fit_predict(X, y=None) \n",
    "\n",
    "    silhouette_avg = silhouette_score(X, member)\n",
    "    ch_index_score = calinski_harabasz_score(X, member)\n",
    "\n",
    "    inertia.append(model.inertia_)\n",
    "    silhouette.append(silhouette_avg)\n",
    "    ch_index.append(ch_index_score)\n",
    "\n",
    "plt.plot(n_clusters, inertia, 'bx-')\n",
    "plt.xlabel('Jumlah k')\n",
    "plt.ylabel('Inersia')\n",
    "plt.title('Metode Elbow untuk Menentukan Jumlah k Terbaik')\n",
    "plt.show()"
   ]
  },
  {
   "cell_type": "code",
   "execution_count": 38,
   "metadata": {},
   "outputs": [
    {
     "name": "stdout",
     "output_type": "stream",
     "text": [
      "Jumlah Cluster = 2\n",
      "Silhouette Score = 0.9606658418480178\n",
      "CH Index Score = 634.7689382184228\n",
      "\n",
      "Jumlah Cluster = 3\n",
      "Silhouette Score = 0.8754071309636088\n",
      "CH Index Score = 1715.0489189508862\n",
      "\n",
      "Jumlah Cluster = 4\n",
      "Silhouette Score = 0.7837173430741196\n",
      "CH Index Score = 3645.8127021274236\n",
      "\n",
      "Jumlah Cluster = 5\n",
      "Silhouette Score = 0.7571167757666882\n",
      "CH Index Score = 4950.004438839629\n",
      "\n",
      "Jumlah Cluster = 6\n",
      "Silhouette Score = 0.7567727700007737\n",
      "CH Index Score = 6870.664082478858\n",
      "\n",
      "Jumlah Cluster = 7\n",
      "Silhouette Score = 0.7405307252645972\n",
      "CH Index Score = 10154.91798470565\n",
      "\n",
      "Jumlah Cluster = 8\n",
      "Silhouette Score = 0.7358031610625088\n",
      "CH Index Score = 11185.31262202761\n",
      "\n",
      "Jumlah Cluster = 9\n",
      "Silhouette Score = 0.732697112015068\n",
      "CH Index Score = 13106.446804767396\n",
      "\n",
      "Jumlah Cluster = 10\n",
      "Silhouette Score = 0.6740763068039617\n",
      "CH Index Score = 14757.192858714947\n",
      "\n",
      "\n",
      "Cluster Terbaik Berdasarkan CH Index dan Silhoutte Score\n",
      "Jumlah Cluster Silhoutte = 2\n",
      "Nilai Silhoutte Score = 0.9606658418480178\n",
      "\n",
      "Jumlah Cluster CH Index = 10\n",
      "Nilai CH Index Score = 14757.192858714947\n",
      "\n"
     ]
    }
   ],
   "source": [
    "for i, s, c in zip(n_clusters, silhouette, ch_index):\n",
    "    silhouette_avg = silhouette.index(max(silhouette))\n",
    "    ch_index_score = ch_index.index(max(ch_index))\n",
    "\n",
    "    print(f\"Jumlah Cluster = {i}\\nSilhouette Score = {s}\\nCH Index Score = {c}\\n\")\n",
    "\n",
    "k_silhoutte = range(2, 11)[silhouette_avg]\n",
    "k_ch_index = range(2, 11)[ch_index_score]\n",
    "\n",
    "print('\\nCluster Terbaik Berdasarkan CH Index dan Silhoutte Score')\n",
    "print(f'Jumlah Cluster Silhoutte = {k_silhoutte}')\n",
    "print(f'Nilai Silhoutte Score = {max(silhouette)}\\n')\n",
    "\n",
    "print(f'Jumlah Cluster CH Index = {k_ch_index}')\n",
    "print(f'Nilai CH Index Score = {max(ch_index)}\\n')"
   ]
  },
  {
   "cell_type": "code",
   "execution_count": 39,
   "metadata": {},
   "outputs": [
    {
     "data": {
      "text/plain": [
       "0    93\n",
       "3    17\n",
       "2     6\n",
       "1     1\n",
       "Name: cluster, dtype: int64"
      ]
     },
     "execution_count": 39,
     "metadata": {},
     "output_type": "execute_result"
    }
   ],
   "source": [
    "kmeans = KMeans(n_clusters=4, max_iter=500, n_init=50, random_state=42)\n",
    "member = kmeans.fit_predict(X)\n",
    "\n",
    "df2['cluster'] = kmeans.labels_\n",
    "df2['cluster'].value_counts()"
   ]
  },
  {
   "cell_type": "code",
   "execution_count": 40,
   "metadata": {},
   "outputs": [
    {
     "name": "stderr",
     "output_type": "stream",
     "text": [
      "C:\\Users\\Jayy\\AppData\\Local\\Temp\\ipykernel_17336\\185097041.py:1: FutureWarning: The default value of numeric_only in DataFrameGroupBy.mean is deprecated. In a future version, numeric_only will default to False. Either specify numeric_only or select only columns which should be valid for the function.\n",
      "  df2.groupby('cluster').mean().sort_values(by='Rata-rata', ascending=False)\n"
     ]
    },
    {
     "data": {
      "text/html": [
       "<div>\n",
       "<style scoped>\n",
       "    .dataframe tbody tr th:only-of-type {\n",
       "        vertical-align: middle;\n",
       "    }\n",
       "\n",
       "    .dataframe tbody tr th {\n",
       "        vertical-align: top;\n",
       "    }\n",
       "\n",
       "    .dataframe thead th {\n",
       "        text-align: right;\n",
       "    }\n",
       "</style>\n",
       "<table border=\"1\" class=\"dataframe\">\n",
       "  <thead>\n",
       "    <tr style=\"text-align: right;\">\n",
       "      <th></th>\n",
       "      <th>Total</th>\n",
       "      <th>Rentang Greentick Ke Juni 2023</th>\n",
       "      <th>Rata-rata</th>\n",
       "    </tr>\n",
       "    <tr>\n",
       "      <th>cluster</th>\n",
       "      <th></th>\n",
       "      <th></th>\n",
       "      <th></th>\n",
       "    </tr>\n",
       "  </thead>\n",
       "  <tbody>\n",
       "    <tr>\n",
       "      <th>1</th>\n",
       "      <td>12109927.000</td>\n",
       "      <td>34.000</td>\n",
       "      <td>712349.000</td>\n",
       "    </tr>\n",
       "    <tr>\n",
       "      <th>2</th>\n",
       "      <td>1995790.833</td>\n",
       "      <td>19.500</td>\n",
       "      <td>176396.833</td>\n",
       "    </tr>\n",
       "    <tr>\n",
       "      <th>3</th>\n",
       "      <td>545608.824</td>\n",
       "      <td>18.294</td>\n",
       "      <td>50192.588</td>\n",
       "    </tr>\n",
       "    <tr>\n",
       "      <th>0</th>\n",
       "      <td>44114.720</td>\n",
       "      <td>11.828</td>\n",
       "      <td>3860.914</td>\n",
       "    </tr>\n",
       "  </tbody>\n",
       "</table>\n",
       "</div>"
      ],
      "text/plain": [
       "               Total  Rentang Greentick Ke Juni 2023  Rata-rata\n",
       "cluster                                                        \n",
       "1       12109927.000                          34.000 712349.000\n",
       "2        1995790.833                          19.500 176396.833\n",
       "3         545608.824                          18.294  50192.588\n",
       "0          44114.720                          11.828   3860.914"
      ]
     },
     "execution_count": 40,
     "metadata": {},
     "output_type": "execute_result"
    }
   ],
   "source": [
    "df2.groupby('cluster').mean().sort_values(by='Rata-rata', ascending=False)"
   ]
  },
  {
   "cell_type": "code",
   "execution_count": 41,
   "metadata": {},
   "outputs": [
    {
     "data": {
      "text/plain": [
       "<Axes: xlabel='cluster', ylabel='Rata-rata'>"
      ]
     },
     "execution_count": 41,
     "metadata": {},
     "output_type": "execute_result"
    },
    {
     "data": {
      "image/png": "[encoded data removed]",
      "text/plain": [
       "<Figure size 432x288 with 1 Axes>"
      ]
     },
     "metadata": {
      "needs_background": "light"
     },
     "output_type": "display_data"
    }
   ],
   "source": [
    "sns.boxplot(x='cluster', y='Rata-rata', data=df2[df2['cluster'] == 0])"
   ]
  }
 ],
 "metadata": {
  "kernelspec": {
   "display_name": "Python 3",
   "language": "python",
   "name": "python3"
  },
  "language_info": {
   "codemirror_mode": {
    "name": "ipython",
    "version": 3
   },
   "file_extension": ".py",
   "mimetype": "text/x-python",
   "name": "python",
   "nbconvert_exporter": "python",
   "pygments_lexer": "ipython3",
   "version": "3.9.1rc1"
  },
  "orig_nbformat": 4
 },
 "nbformat": 4,
 "nbformat_minor": 2
}
